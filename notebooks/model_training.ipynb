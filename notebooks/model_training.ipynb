{
 "cells": [
  {
   "cell_type": "code",
   "execution_count": 3,
   "id": "initial_id",
   "metadata": {
    "collapsed": true,
    "ExecuteTime": {
     "end_time": "2023-10-21T19:50:42.868710100Z",
     "start_time": "2023-10-21T19:50:42.746192500Z"
    }
   },
   "outputs": [],
   "source": [
    "import pandas as pd\n",
    "import numpy as np\n"
   ]
  },
  {
   "cell_type": "code",
   "execution_count": 4,
   "outputs": [],
   "source": [
    "data = pd.read_csv(\"../notebooks/data/Air_quality_data.csv\")"
   ],
   "metadata": {
    "collapsed": false,
    "ExecuteTime": {
     "end_time": "2023-10-21T19:50:42.941071100Z",
     "start_time": "2023-10-21T19:50:42.758194300Z"
    }
   },
   "id": "20063ec7e4535c0d"
  },
  {
   "cell_type": "code",
   "execution_count": 5,
   "outputs": [
    {
     "data": {
      "text/plain": "(29531, 16)"
     },
     "execution_count": 5,
     "metadata": {},
     "output_type": "execute_result"
    }
   ],
   "source": [
    "data.shape"
   ],
   "metadata": {
    "collapsed": false,
    "ExecuteTime": {
     "end_time": "2023-10-21T19:50:42.942069100Z",
     "start_time": "2023-10-21T19:50:42.835195900Z"
    }
   },
   "id": "c693cd06e7861cd1"
  },
  {
   "cell_type": "code",
   "execution_count": 6,
   "outputs": [
    {
     "name": "stdout",
     "output_type": "stream",
     "text": [
      "<class 'pandas.core.frame.DataFrame'>\n",
      "RangeIndex: 29531 entries, 0 to 29530\n",
      "Data columns (total 16 columns):\n",
      " #   Column      Non-Null Count  Dtype  \n",
      "---  ------      --------------  -----  \n",
      " 0   City        29531 non-null  object \n",
      " 1   Date        29531 non-null  object \n",
      " 2   PM2.5       24933 non-null  float64\n",
      " 3   PM10        18391 non-null  float64\n",
      " 4   NO          25949 non-null  float64\n",
      " 5   NO2         25946 non-null  float64\n",
      " 6   NOx         25346 non-null  float64\n",
      " 7   NH3         19203 non-null  float64\n",
      " 8   CO          27472 non-null  float64\n",
      " 9   SO2         25677 non-null  float64\n",
      " 10  O3          25509 non-null  float64\n",
      " 11  Benzene     23908 non-null  float64\n",
      " 12  Toluene     21490 non-null  float64\n",
      " 13  Xylene      11422 non-null  float64\n",
      " 14  AQI         24850 non-null  float64\n",
      " 15  AQI_Bucket  24850 non-null  object \n",
      "dtypes: float64(13), object(3)\n",
      "memory usage: 3.6+ MB\n"
     ]
    }
   ],
   "source": [
    "data.info()"
   ],
   "metadata": {
    "collapsed": false,
    "ExecuteTime": {
     "end_time": "2023-10-21T19:50:42.943070400Z",
     "start_time": "2023-10-21T19:50:42.855712600Z"
    }
   },
   "id": "f5892bbcce8c1476"
  },
  {
   "cell_type": "code",
   "execution_count": 7,
   "outputs": [
    {
     "data": {
      "text/plain": "City              0\nDate              0\nPM2.5          4598\nPM10          11140\nNO             3582\nNO2            3585\nNOx            4185\nNH3           10328\nCO             2059\nSO2            3854\nO3             4022\nBenzene        5623\nToluene        8041\nXylene        18109\nAQI            4681\nAQI_Bucket     4681\ndtype: int64"
     },
     "execution_count": 7,
     "metadata": {},
     "output_type": "execute_result"
    }
   ],
   "source": [
    "data.isnull().sum()"
   ],
   "metadata": {
    "collapsed": false,
    "ExecuteTime": {
     "end_time": "2023-10-21T19:50:42.945069900Z",
     "start_time": "2023-10-21T19:50:42.899661700Z"
    }
   },
   "id": "796382745aa4c252"
  },
  {
   "cell_type": "code",
   "execution_count": 8,
   "outputs": [],
   "source": [
    "data[\"PM2.5\"].fillna(data[\"PM2.5\"].mean().round(2), inplace=True)\n",
    "data[\"PM10\"].fillna(data[\"PM10\"].mean().round(2), inplace=True)\n",
    "data[\"NO\"].fillna(data[\"NO\"].mean().round(2), inplace=True)\n",
    "data[\"NO2\"].fillna(data[\"NO2\"].mean().round(2), inplace=True)\n",
    "data[\"NOx\"].fillna(data[\"NOx\"].mean().round(2), inplace=True)\n",
    "data[\"NH3\"].fillna(data[\"NH3\"].mean().round(2), inplace=True)\n",
    "data[\"CO\"].fillna(data[\"CO\"].mean().round(2), inplace=True)\n",
    "data[\"SO2\"].fillna(data[\"SO2\"].mean().round(2), inplace=True)\n",
    "data[\"O3\"].fillna(data[\"O3\"].mean().round(2), inplace=True)\n",
    "data[\"Benzene\"].fillna(data[\"Benzene\"].mean().round(2), inplace=True)\n",
    "data[\"Toluene\"].fillna(data[\"Toluene\"].mean().round(2), inplace=True)\n",
    "data[\"Xylene\"].fillna(data[\"Xylene\"].mean().round(2), inplace=True)\n",
    "data[\"AQI\"].fillna(data[\"AQI\"].mean().round(2), inplace=True)"
   ],
   "metadata": {
    "collapsed": false,
    "ExecuteTime": {
     "end_time": "2023-10-21T19:50:42.974069800Z",
     "start_time": "2023-10-21T19:50:42.930797700Z"
    }
   },
   "id": "1dbff5fd44d2489f"
  },
  {
   "cell_type": "code",
   "execution_count": 9,
   "outputs": [
    {
     "data": {
      "text/plain": "0"
     },
     "execution_count": 9,
     "metadata": {},
     "output_type": "execute_result"
    }
   ],
   "source": [
    "data.duplicated().sum()"
   ],
   "metadata": {
    "collapsed": false,
    "ExecuteTime": {
     "end_time": "2023-10-21T19:50:43.051154900Z",
     "start_time": "2023-10-21T19:50:42.959071800Z"
    }
   },
   "id": "51d0fca035fc7c60"
  },
  {
   "cell_type": "code",
   "execution_count": 10,
   "outputs": [],
   "source": [
    "data[\"Date\"] = pd.to_datetime(data[\"Date\"], format=\"%Y-%m-%d\")"
   ],
   "metadata": {
    "collapsed": false,
    "ExecuteTime": {
     "end_time": "2023-10-21T19:50:43.054155200Z",
     "start_time": "2023-10-21T19:50:43.008070600Z"
    }
   },
   "id": "cd3592a8f5b23be0"
  },
  {
   "cell_type": "code",
   "execution_count": 11,
   "outputs": [
    {
     "data": {
      "text/plain": "'data[\"Year\"] = data[\"Date\"].dt.year\\ndata[\"Month\"] = data[\"Date\"].dt.month\\ndata[\"Day\"] = data[\"Date\"].dt.day'"
     },
     "execution_count": 11,
     "metadata": {},
     "output_type": "execute_result"
    }
   ],
   "source": [
    "'''data[\"Year\"] = data[\"Date\"].dt.year\n",
    "data[\"Month\"] = data[\"Date\"].dt.month\n",
    "data[\"Day\"] = data[\"Date\"].dt.day'''"
   ],
   "metadata": {
    "collapsed": false,
    "ExecuteTime": {
     "end_time": "2023-10-21T19:50:43.074152300Z",
     "start_time": "2023-10-21T19:50:43.039157900Z"
    }
   },
   "id": "64125f4d1927f33e"
  },
  {
   "cell_type": "code",
   "execution_count": 12,
   "outputs": [
    {
     "name": "stdout",
     "output_type": "stream",
     "text": [
      "<class 'pandas.core.frame.DataFrame'>\n",
      "RangeIndex: 29531 entries, 0 to 29530\n",
      "Data columns (total 16 columns):\n",
      " #   Column      Non-Null Count  Dtype         \n",
      "---  ------      --------------  -----         \n",
      " 0   City        29531 non-null  object        \n",
      " 1   Date        29531 non-null  datetime64[ns]\n",
      " 2   PM2.5       29531 non-null  float64       \n",
      " 3   PM10        29531 non-null  float64       \n",
      " 4   NO          29531 non-null  float64       \n",
      " 5   NO2         29531 non-null  float64       \n",
      " 6   NOx         29531 non-null  float64       \n",
      " 7   NH3         29531 non-null  float64       \n",
      " 8   CO          29531 non-null  float64       \n",
      " 9   SO2         29531 non-null  float64       \n",
      " 10  O3          29531 non-null  float64       \n",
      " 11  Benzene     29531 non-null  float64       \n",
      " 12  Toluene     29531 non-null  float64       \n",
      " 13  Xylene      29531 non-null  float64       \n",
      " 14  AQI         29531 non-null  float64       \n",
      " 15  AQI_Bucket  24850 non-null  object        \n",
      "dtypes: datetime64[ns](1), float64(13), object(2)\n",
      "memory usage: 3.6+ MB\n"
     ]
    }
   ],
   "source": [
    "data.info()"
   ],
   "metadata": {
    "collapsed": false,
    "ExecuteTime": {
     "end_time": "2023-10-21T19:50:43.166690700Z",
     "start_time": "2023-10-21T19:50:43.056156200Z"
    }
   },
   "id": "d6f520a5303b668f"
  },
  {
   "cell_type": "code",
   "execution_count": 13,
   "outputs": [],
   "source": [
    "data = data.drop(labels=[\"Date\"], axis=1)"
   ],
   "metadata": {
    "collapsed": false,
    "ExecuteTime": {
     "end_time": "2023-10-21T19:50:43.167682900Z",
     "start_time": "2023-10-21T19:50:43.087154800Z"
    }
   },
   "id": "5bf995e811688c97"
  },
  {
   "cell_type": "code",
   "execution_count": 14,
   "outputs": [],
   "source": [
    "data.loc[(data[\"AQI\"] >= 0) & (data[\"AQI\"]<=50), \"AQI_Bucket\"] = \"Good\"\n",
    "data.loc[(data[\"AQI\"] >= 51) & (data[\"AQI\"]<=100), \"AQI_Bucket\"] = \"Satisfactory\"\n",
    "data.loc[(data[\"AQI\"] >= 101) & (data[\"AQI\"]<=200), \"AQI_Bucket\"] = \"Moderate\"\n",
    "data.loc[(data[\"AQI\"] >= 201) & (data[\"AQI\"]<=300), \"AQI_Bucket\"] = \"Poor\"\n",
    "data.loc[(data[\"AQI\"] >= 301) & (data[\"AQI\"]<=400), \"AQI_Bucket\"] = \"Very Poor\"\n",
    "data.loc[(data[\"AQI\"] >= 401) & (data[\"AQI\"]<=500), \"AQI_Bucket\"] = \"Severe\""
   ],
   "metadata": {
    "collapsed": false,
    "ExecuteTime": {
     "end_time": "2023-10-21T19:50:43.184186900Z",
     "start_time": "2023-10-21T19:50:43.104153300Z"
    }
   },
   "id": "acb6172a70f94371"
  },
  {
   "cell_type": "code",
   "execution_count": 14,
   "outputs": [],
   "source": [],
   "metadata": {
    "collapsed": false,
    "ExecuteTime": {
     "end_time": "2023-10-21T19:50:43.185194300Z",
     "start_time": "2023-10-21T19:50:43.116153600Z"
    }
   },
   "id": "65ad7d22f69d3abc"
  },
  {
   "cell_type": "code",
   "execution_count": 15,
   "outputs": [],
   "source": [
    "X = data.drop(labels=[\"AQI_Bucket\"], axis=1)\n",
    "Y = data[[\"AQI_Bucket\"]]"
   ],
   "metadata": {
    "collapsed": false,
    "ExecuteTime": {
     "end_time": "2023-10-21T19:50:43.201195300Z",
     "start_time": "2023-10-21T19:50:43.136159300Z"
    }
   },
   "id": "6fc56cb777cdd8b0"
  },
  {
   "cell_type": "code",
   "execution_count": 16,
   "outputs": [],
   "source": [
    "categorical_data = X.select_dtypes(include=\"object\").columns\n",
    "numerical_data = X.select_dtypes(exclude=\"object\").columns"
   ],
   "metadata": {
    "collapsed": false,
    "ExecuteTime": {
     "end_time": "2023-10-21T19:50:43.202193600Z",
     "start_time": "2023-10-21T19:50:43.149680900Z"
    }
   },
   "id": "1873b0d9fbc74a6"
  },
  {
   "cell_type": "code",
   "execution_count": 17,
   "outputs": [],
   "source": [
    "from sklearn.preprocessing import StandardScaler, OrdinalEncoder\n",
    "from sklearn.pipeline import Pipeline\n",
    "from sklearn.compose import ColumnTransformer"
   ],
   "metadata": {
    "collapsed": false,
    "ExecuteTime": {
     "end_time": "2023-10-21T19:50:43.430797200Z",
     "start_time": "2023-10-21T19:50:43.167682900Z"
    }
   },
   "id": "cc8c8c6a85c92fab"
  },
  {
   "cell_type": "code",
   "execution_count": 18,
   "outputs": [],
   "source": [
    "num_pipeline =  Pipeline(\n",
    "    steps=[\n",
    "        (\"Scaler\", StandardScaler())\n",
    "    ]\n",
    ")\n",
    "\n",
    "cat_pipeline = Pipeline(\n",
    "    steps=[\n",
    "        (\"OrdinalEncoder\", OrdinalEncoder()),\n",
    "        (\"Scaler\", StandardScaler())\n",
    "        \n",
    "    ]\n",
    ")\n",
    "\n",
    "preprocessor = ColumnTransformer(\n",
    "    [\n",
    "        (\"numerical pipeline\", num_pipeline, numerical_data),\n",
    "        (\"Categorical Pipeline\", cat_pipeline, categorical_data)\n",
    "    ]\n",
    ")"
   ],
   "metadata": {
    "collapsed": false,
    "ExecuteTime": {
     "end_time": "2023-10-21T19:50:43.444354800Z",
     "start_time": "2023-10-21T19:50:43.433796600Z"
    }
   },
   "id": "2b58f9194a9cb16c"
  },
  {
   "cell_type": "code",
   "execution_count": 19,
   "outputs": [],
   "source": [
    "from sklearn.model_selection import train_test_split\n",
    "\n",
    "X_train, X_test, y_train, y_test = train_test_split(X, Y, test_size=0.30, random_state=45)"
   ],
   "metadata": {
    "collapsed": false,
    "ExecuteTime": {
     "end_time": "2023-10-21T19:50:43.522318800Z",
     "start_time": "2023-10-21T19:50:43.448321500Z"
    }
   },
   "id": "903eac9da2169f93"
  },
  {
   "cell_type": "code",
   "execution_count": 20,
   "outputs": [],
   "source": [
    "x_train = pd.DataFrame(preprocessor.fit_transform(X_train), columns=numerical_data.to_list() + categorical_data.to_list())"
   ],
   "metadata": {
    "collapsed": false,
    "ExecuteTime": {
     "end_time": "2023-10-21T19:50:43.564845400Z",
     "start_time": "2023-10-21T19:50:43.523324600Z"
    }
   },
   "id": "969f382291e39ef2"
  },
  {
   "cell_type": "code",
   "execution_count": 20,
   "outputs": [],
   "source": [],
   "metadata": {
    "collapsed": false,
    "ExecuteTime": {
     "end_time": "2023-10-21T19:50:43.576843900Z",
     "start_time": "2023-10-21T19:50:43.554848100Z"
    }
   },
   "id": "d6be129ff8647bd5"
  },
  {
   "cell_type": "code",
   "execution_count": 21,
   "outputs": [],
   "source": [
    "x_test = pd.DataFrame(preprocessor.transform(X_test), columns=numerical_data.to_list() + categorical_data.to_list())"
   ],
   "metadata": {
    "collapsed": false,
    "ExecuteTime": {
     "end_time": "2023-10-21T19:50:43.615844200Z",
     "start_time": "2023-10-21T19:50:43.574845500Z"
    }
   },
   "id": "a9edf2591201cb2a"
  },
  {
   "cell_type": "code",
   "execution_count": 28,
   "outputs": [],
   "source": [
    "from sklearn.svm import SVC\n",
    "from sklearn.metrics import accuracy_score"
   ],
   "metadata": {
    "collapsed": false,
    "ExecuteTime": {
     "end_time": "2023-10-21T19:57:26.546980800Z",
     "start_time": "2023-10-21T19:57:26.527983700Z"
    }
   },
   "id": "78e6d0d2416c56e2"
  },
  {
   "cell_type": "code",
   "execution_count": 23,
   "outputs": [],
   "source": [
    "model = SVC(kernel=\"rbf\")"
   ],
   "metadata": {
    "collapsed": false,
    "ExecuteTime": {
     "end_time": "2023-10-21T19:50:43.697464400Z",
     "start_time": "2023-10-21T19:50:43.682465400Z"
    }
   },
   "id": "5422857a0c185b5c"
  },
  {
   "cell_type": "code",
   "execution_count": 24,
   "outputs": [
    {
     "name": "stderr",
     "output_type": "stream",
     "text": [
      "C:\\Users\\madhu\\AppData\\Local\\Programs\\Python\\Python310\\lib\\site-packages\\sklearn\\utils\\validation.py:1111: DataConversionWarning: A column-vector y was passed when a 1d array was expected. Please change the shape of y to (n_samples, ), for example using ravel().\n",
      "  y = column_or_1d(y, warn=True)\n"
     ]
    },
    {
     "data": {
      "text/plain": "SVC()",
      "text/html": "<style>#sk-container-id-1 {color: black;background-color: white;}#sk-container-id-1 pre{padding: 0;}#sk-container-id-1 div.sk-toggleable {background-color: white;}#sk-container-id-1 label.sk-toggleable__label {cursor: pointer;display: block;width: 100%;margin-bottom: 0;padding: 0.3em;box-sizing: border-box;text-align: center;}#sk-container-id-1 label.sk-toggleable__label-arrow:before {content: \"▸\";float: left;margin-right: 0.25em;color: #696969;}#sk-container-id-1 label.sk-toggleable__label-arrow:hover:before {color: black;}#sk-container-id-1 div.sk-estimator:hover label.sk-toggleable__label-arrow:before {color: black;}#sk-container-id-1 div.sk-toggleable__content {max-height: 0;max-width: 0;overflow: hidden;text-align: left;background-color: #f0f8ff;}#sk-container-id-1 div.sk-toggleable__content pre {margin: 0.2em;color: black;border-radius: 0.25em;background-color: #f0f8ff;}#sk-container-id-1 input.sk-toggleable__control:checked~div.sk-toggleable__content {max-height: 200px;max-width: 100%;overflow: auto;}#sk-container-id-1 input.sk-toggleable__control:checked~label.sk-toggleable__label-arrow:before {content: \"▾\";}#sk-container-id-1 div.sk-estimator input.sk-toggleable__control:checked~label.sk-toggleable__label {background-color: #d4ebff;}#sk-container-id-1 div.sk-label input.sk-toggleable__control:checked~label.sk-toggleable__label {background-color: #d4ebff;}#sk-container-id-1 input.sk-hidden--visually {border: 0;clip: rect(1px 1px 1px 1px);clip: rect(1px, 1px, 1px, 1px);height: 1px;margin: -1px;overflow: hidden;padding: 0;position: absolute;width: 1px;}#sk-container-id-1 div.sk-estimator {font-family: monospace;background-color: #f0f8ff;border: 1px dotted black;border-radius: 0.25em;box-sizing: border-box;margin-bottom: 0.5em;}#sk-container-id-1 div.sk-estimator:hover {background-color: #d4ebff;}#sk-container-id-1 div.sk-parallel-item::after {content: \"\";width: 100%;border-bottom: 1px solid gray;flex-grow: 1;}#sk-container-id-1 div.sk-label:hover label.sk-toggleable__label {background-color: #d4ebff;}#sk-container-id-1 div.sk-serial::before {content: \"\";position: absolute;border-left: 1px solid gray;box-sizing: border-box;top: 0;bottom: 0;left: 50%;z-index: 0;}#sk-container-id-1 div.sk-serial {display: flex;flex-direction: column;align-items: center;background-color: white;padding-right: 0.2em;padding-left: 0.2em;position: relative;}#sk-container-id-1 div.sk-item {position: relative;z-index: 1;}#sk-container-id-1 div.sk-parallel {display: flex;align-items: stretch;justify-content: center;background-color: white;position: relative;}#sk-container-id-1 div.sk-item::before, #sk-container-id-1 div.sk-parallel-item::before {content: \"\";position: absolute;border-left: 1px solid gray;box-sizing: border-box;top: 0;bottom: 0;left: 50%;z-index: -1;}#sk-container-id-1 div.sk-parallel-item {display: flex;flex-direction: column;z-index: 1;position: relative;background-color: white;}#sk-container-id-1 div.sk-parallel-item:first-child::after {align-self: flex-end;width: 50%;}#sk-container-id-1 div.sk-parallel-item:last-child::after {align-self: flex-start;width: 50%;}#sk-container-id-1 div.sk-parallel-item:only-child::after {width: 0;}#sk-container-id-1 div.sk-dashed-wrapped {border: 1px dashed gray;margin: 0 0.4em 0.5em 0.4em;box-sizing: border-box;padding-bottom: 0.4em;background-color: white;}#sk-container-id-1 div.sk-label label {font-family: monospace;font-weight: bold;display: inline-block;line-height: 1.2em;}#sk-container-id-1 div.sk-label-container {text-align: center;}#sk-container-id-1 div.sk-container {/* jupyter's `normalize.less` sets `[hidden] { display: none; }` but bootstrap.min.css set `[hidden] { display: none !important; }` so we also need the `!important` here to be able to override the default hidden behavior on the sphinx rendered scikit-learn.org. See: https://github.com/scikit-learn/scikit-learn/issues/21755 */display: inline-block !important;position: relative;}#sk-container-id-1 div.sk-text-repr-fallback {display: none;}</style><div id=\"sk-container-id-1\" class=\"sk-top-container\"><div class=\"sk-text-repr-fallback\"><pre>SVC()</pre><b>In a Jupyter environment, please rerun this cell to show the HTML representation or trust the notebook. <br />On GitHub, the HTML representation is unable to render, please try loading this page with nbviewer.org.</b></div><div class=\"sk-container\" hidden><div class=\"sk-item\"><div class=\"sk-estimator sk-toggleable\"><input class=\"sk-toggleable__control sk-hidden--visually\" id=\"sk-estimator-id-1\" type=\"checkbox\" checked><label for=\"sk-estimator-id-1\" class=\"sk-toggleable__label sk-toggleable__label-arrow\">SVC</label><div class=\"sk-toggleable__content\"><pre>SVC()</pre></div></div></div></div></div>"
     },
     "execution_count": 24,
     "metadata": {},
     "output_type": "execute_result"
    }
   ],
   "source": [
    "model.fit(x_train, y_train)"
   ],
   "metadata": {
    "collapsed": false,
    "ExecuteTime": {
     "end_time": "2023-10-21T19:50:48.399286300Z",
     "start_time": "2023-10-21T19:50:43.701465100Z"
    }
   },
   "id": "867322d6dea9460"
  },
  {
   "cell_type": "code",
   "execution_count": 25,
   "outputs": [
    {
     "data": {
      "text/plain": "array(['Satisfactory', 'Moderate', 'Satisfactory', ..., 'Moderate',\n       'Moderate', 'Good'], dtype=object)"
     },
     "execution_count": 25,
     "metadata": {},
     "output_type": "execute_result"
    }
   ],
   "source": [
    "model.predict(x_test)"
   ],
   "metadata": {
    "collapsed": false,
    "ExecuteTime": {
     "end_time": "2023-10-21T19:50:54.054361700Z",
     "start_time": "2023-10-21T19:50:48.402248400Z"
    }
   },
   "id": "c1d2c07e3724741"
  },
  {
   "cell_type": "code",
   "execution_count": 29,
   "outputs": [
    {
     "data": {
      "text/plain": "0.9375846501128668"
     },
     "execution_count": 29,
     "metadata": {},
     "output_type": "execute_result"
    }
   ],
   "source": [
    "accuracy_score(y_test, model.predict(x_test))"
   ],
   "metadata": {
    "collapsed": false,
    "ExecuteTime": {
     "end_time": "2023-10-21T19:57:48.531761100Z",
     "start_time": "2023-10-21T19:57:42.490853900Z"
    }
   },
   "id": "3ddfb74105f6261"
  },
  {
   "cell_type": "code",
   "execution_count": null,
   "outputs": [],
   "source": [],
   "metadata": {
    "collapsed": false,
    "ExecuteTime": {
     "start_time": "2023-10-21T19:50:54.088364600Z"
    }
   },
   "id": "fb844d13d62cca65"
  }
 ],
 "metadata": {
  "kernelspec": {
   "display_name": "Python 3",
   "language": "python",
   "name": "python3"
  },
  "language_info": {
   "codemirror_mode": {
    "name": "ipython",
    "version": 2
   },
   "file_extension": ".py",
   "mimetype": "text/x-python",
   "name": "python",
   "nbconvert_exporter": "python",
   "pygments_lexer": "ipython2",
   "version": "2.7.6"
  }
 },
 "nbformat": 4,
 "nbformat_minor": 5
}
